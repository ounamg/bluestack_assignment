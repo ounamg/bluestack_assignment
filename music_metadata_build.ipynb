{
 "cells": [
  {
   "cell_type": "markdown",
   "id": "be2d361e",
   "metadata": {},
   "source": [
    "### PLAN OF ACTION\n",
    "1. Feed a link to youtube to get further recommended links\n",
    "2. Feed the links one by one to Youtube to mp3 converter \n",
    "3. Download songs!!!! \n",
    "#### Steps to follow now\n",
    "1. Get links as a array, check if the link exists, add if not\n",
    "2. Build a artist library, strip off name from v_title if found in artist directory, featuring artists too, \n",
    "3. NEXT - remove words like, official, music, video, featuring, ft., regex, audio, remix, enclosed in brackets)\n",
    "4. Take the rest as music title (doesnt matter if a little fucked up)\n",
    "\n"
   ]
  },
  {
   "cell_type": "code",
   "execution_count": 6,
   "id": "3546d96d",
   "metadata": {},
   "outputs": [
    {
     "name": "stdout",
     "output_type": "stream",
     "text": [
      "-------------------------------------------------------------\n",
      "Downloading -f\n"
     ]
    },
    {
     "ename": "IndexError",
     "evalue": "list index out of range",
     "output_type": "error",
     "traceback": [
      "\u001b[1;31m---------------------------------------------------------------------------\u001b[0m",
      "\u001b[1;31mIndexError\u001b[0m                                Traceback (most recent call last)",
      "\u001b[1;32m<ipython-input-6-3841f3886172>\u001b[0m in \u001b[0;36m<module>\u001b[1;34m\u001b[0m\n\u001b[0;32m     60\u001b[0m \u001b[1;33m\u001b[0m\u001b[0m\n\u001b[0;32m     61\u001b[0m \u001b[1;32mif\u001b[0m \u001b[0m__name__\u001b[0m \u001b[1;33m==\u001b[0m \u001b[1;34m'__main__'\u001b[0m\u001b[1;33m:\u001b[0m\u001b[1;33m\u001b[0m\u001b[1;33m\u001b[0m\u001b[0m\n\u001b[1;32m---> 62\u001b[1;33m     \u001b[0mmain\u001b[0m\u001b[1;33m(\u001b[0m\u001b[1;33m)\u001b[0m\u001b[1;33m;\u001b[0m\u001b[1;33m\u001b[0m\u001b[1;33m\u001b[0m\u001b[0m\n\u001b[0m",
      "\u001b[1;32m<ipython-input-6-3841f3886172>\u001b[0m in \u001b[0;36mmain\u001b[1;34m()\u001b[0m\n\u001b[0;32m     55\u001b[0m     \u001b[1;32melse\u001b[0m\u001b[1;33m:\u001b[0m\u001b[1;33m\u001b[0m\u001b[1;33m\u001b[0m\u001b[0m\n\u001b[0;32m     56\u001b[0m         \u001b[1;32mfor\u001b[0m \u001b[0msong\u001b[0m \u001b[1;32min\u001b[0m \u001b[0msys\u001b[0m\u001b[1;33m.\u001b[0m\u001b[0margv\u001b[0m\u001b[1;33m[\u001b[0m\u001b[1;36m1\u001b[0m\u001b[1;33m:\u001b[0m\u001b[1;33m]\u001b[0m\u001b[1;33m:\u001b[0m\u001b[1;33m\u001b[0m\u001b[1;33m\u001b[0m\u001b[0m\n\u001b[1;32m---> 57\u001b[1;33m             \u001b[0mdoStuff\u001b[0m\u001b[1;33m(\u001b[0m\u001b[0msong\u001b[0m\u001b[1;33m)\u001b[0m\u001b[1;33m\u001b[0m\u001b[1;33m\u001b[0m\u001b[0m\n\u001b[0m\u001b[0;32m     58\u001b[0m \u001b[1;31m# except:\u001b[0m\u001b[1;33m\u001b[0m\u001b[1;33m\u001b[0m\u001b[1;33m\u001b[0m\u001b[0m\n\u001b[0;32m     59\u001b[0m \u001b[1;31m#     print(\"AN ERROR OCCURED!!\\nAre you connected to the internet?\\nIf you are, try reading the README and see if it helps.\")\u001b[0m\u001b[1;33m\u001b[0m\u001b[1;33m\u001b[0m\u001b[1;33m\u001b[0m\u001b[0m\n",
      "\u001b[1;32m<ipython-input-6-3841f3886172>\u001b[0m in \u001b[0;36mdoStuff\u001b[1;34m(song)\u001b[0m\n\u001b[0;32m     42\u001b[0m     \u001b[0mprint\u001b[0m\u001b[1;33m(\u001b[0m\u001b[1;34m\"Downloading \"\u001b[0m \u001b[1;33m+\u001b[0m \u001b[0mtitleCase\u001b[0m\u001b[1;33m(\u001b[0m\u001b[0msong\u001b[0m\u001b[1;33m)\u001b[0m\u001b[1;33m)\u001b[0m\u001b[1;33m\u001b[0m\u001b[1;33m\u001b[0m\u001b[0m\n\u001b[0;32m     43\u001b[0m     \u001b[0mURL\u001b[0m \u001b[1;33m=\u001b[0m \u001b[1;34m'https://www.youtube.com/results?search_query='\u001b[0m\u001b[1;33m\u001b[0m\u001b[1;33m\u001b[0m\u001b[0m\n\u001b[1;32m---> 44\u001b[1;33m     \u001b[0mvidID\u001b[0m \u001b[1;33m=\u001b[0m \u001b[0mgetVidID\u001b[0m\u001b[1;33m(\u001b[0m\u001b[0msong\u001b[0m\u001b[1;33m,\u001b[0m \u001b[0mURL\u001b[0m\u001b[1;33m)\u001b[0m\u001b[1;33m\u001b[0m\u001b[1;33m\u001b[0m\u001b[0m\n\u001b[0m\u001b[0;32m     45\u001b[0m     \u001b[0mlink\u001b[0m \u001b[1;33m=\u001b[0m \u001b[1;34m'https://www.youtube.com'\u001b[0m \u001b[1;33m+\u001b[0m \u001b[0mvidID\u001b[0m\u001b[1;33m\u001b[0m\u001b[1;33m\u001b[0m\u001b[0m\n\u001b[0;32m     46\u001b[0m     \u001b[0msystem\u001b[0m\u001b[1;33m(\u001b[0m\u001b[1;34m\"youtube-dl -x -q -o \\'\"\u001b[0m \u001b[1;33m+\u001b[0m \u001b[0mpathToSave\u001b[0m \u001b[1;33m+\u001b[0m \u001b[0mtitleCase\u001b[0m\u001b[1;33m(\u001b[0m\u001b[0msong\u001b[0m\u001b[1;33m)\u001b[0m \u001b[1;33m+\u001b[0m \u001b[1;34m\".%(ext)s\\' \\'\"\u001b[0m \u001b[1;33m+\u001b[0m \u001b[0mlink\u001b[0m \u001b[1;33m+\u001b[0m \u001b[1;34m\"\\'\"\u001b[0m\u001b[1;33m)\u001b[0m\u001b[1;33m\u001b[0m\u001b[1;33m\u001b[0m\u001b[0m\n",
      "\u001b[1;32m<ipython-input-6-3841f3886172>\u001b[0m in \u001b[0;36mgetVidID\u001b[1;34m(song, URL)\u001b[0m\n\u001b[0;32m     36\u001b[0m     \u001b[0msoup\u001b[0m \u001b[1;33m=\u001b[0m \u001b[0mBeautifulSoup\u001b[0m\u001b[1;33m(\u001b[0m\u001b[0mresponse\u001b[0m\u001b[1;33m.\u001b[0m\u001b[0mread\u001b[0m\u001b[1;33m(\u001b[0m\u001b[1;33m)\u001b[0m\u001b[1;33m,\u001b[0m \u001b[1;34m\"lxml\"\u001b[0m\u001b[1;33m)\u001b[0m\u001b[1;33m\u001b[0m\u001b[1;33m\u001b[0m\u001b[0m\n\u001b[0;32m     37\u001b[0m \u001b[1;33m\u001b[0m\u001b[0m\n\u001b[1;32m---> 38\u001b[1;33m     \u001b[0mvidID\u001b[0m \u001b[1;33m=\u001b[0m \u001b[0msoup\u001b[0m\u001b[1;33m.\u001b[0m\u001b[0mbody\u001b[0m\u001b[1;33m.\u001b[0m\u001b[0mfind_all\u001b[0m\u001b[1;33m(\u001b[0m\u001b[0mclass_\u001b[0m\u001b[1;33m=\u001b[0m\u001b[1;34m\"yt-uix-tile-link\"\u001b[0m\u001b[1;33m)\u001b[0m\u001b[1;33m[\u001b[0m\u001b[1;36m0\u001b[0m\u001b[1;33m]\u001b[0m\u001b[1;33m[\u001b[0m\u001b[1;34m'href'\u001b[0m\u001b[1;33m]\u001b[0m\u001b[1;33m\u001b[0m\u001b[1;33m\u001b[0m\u001b[0m\n\u001b[0m\u001b[0;32m     39\u001b[0m     \u001b[1;32mreturn\u001b[0m \u001b[0mvidID\u001b[0m\u001b[1;33m\u001b[0m\u001b[1;33m\u001b[0m\u001b[0m\n\u001b[0;32m     40\u001b[0m \u001b[1;33m\u001b[0m\u001b[0m\n",
      "\u001b[1;31mIndexError\u001b[0m: list index out of range"
     ]
    }
   ],
   "source": [
    "import urllib\n",
    "import urllib.request\n",
    "from bs4 import BeautifulSoup\n",
    "from os import system\n",
    "import sys\n",
    "from selenium import webdriver \n",
    "import pandas as pd \n",
    "import time\n",
    "from selenium.webdriver.common.by import By \n",
    "from selenium.webdriver.support.ui import WebDriverWait \n",
    "from selenium.webdriver.support import expected_conditions as EC\n",
    "# IMPORTs"
   ]
  },
  {
   "cell_type": "code",
   "execution_count": 9,
   "id": "3c53796b",
   "metadata": {},
   "outputs": [
    {
     "name": "stdout",
     "output_type": "stream",
     "text": [
      "http://www.google.com\n"
     ]
    }
   ],
   "source": [
    "# DUD #####\n",
    "# GET CURRENT LINK URL!! \n",
    "from urllib import request,response\n",
    "url = \"http://www.google.com\"\n",
    "response=request.Request(url,headers = {'User-Agent': 'Mozilla/5.0 (Windows NT 6.3; Win64; x64) AppleWebKit/537.36 (KHTML, like Gecko) Chrome/54.0.2840.71 Safari/537.36'})\n",
    "print(response.get_full_url())\n",
    "\n",
    "# https://stackoverflow.com/questions/10187818/how-do-i-get-the-current-url-in-python-or-attach-beautifulsoup-to-the-current-ur"
   ]
  },
  {
   "cell_type": "code",
   "execution_count": 67,
   "id": "76da16cf",
   "metadata": {},
   "outputs": [
    {
     "ename": "NameError",
     "evalue": "name 'ActionChains' is not defined",
     "output_type": "error",
     "traceback": [
      "\u001b[1;31m---------------------------------------------------------------------------\u001b[0m",
      "\u001b[1;31mNameError\u001b[0m                                 Traceback (most recent call last)",
      "\u001b[1;32m<ipython-input-67-1bce0e768aec>\u001b[0m in \u001b[0;36m<module>\u001b[1;34m\u001b[0m\n\u001b[0;32m      7\u001b[0m \u001b[1;32mfor\u001b[0m \u001b[0mi\u001b[0m \u001b[1;32min\u001b[0m \u001b[0mrange\u001b[0m\u001b[1;33m(\u001b[0m\u001b[1;36m1\u001b[0m\u001b[1;33m)\u001b[0m\u001b[1;33m:\u001b[0m\u001b[1;33m\u001b[0m\u001b[1;33m\u001b[0m\u001b[0m\n\u001b[0;32m      8\u001b[0m     \u001b[0mtime\u001b[0m\u001b[1;33m.\u001b[0m\u001b[0msleep\u001b[0m\u001b[1;33m(\u001b[0m\u001b[1;36m2\u001b[0m\u001b[1;33m)\u001b[0m\u001b[1;33m\u001b[0m\u001b[1;33m\u001b[0m\u001b[0m\n\u001b[1;32m----> 9\u001b[1;33m     \u001b[0mActionChains\u001b[0m\u001b[1;33m(\u001b[0m\u001b[0mdriver\u001b[0m\u001b[1;33m)\u001b[0m\u001b[1;33m.\u001b[0m\u001b[0msend_keys\u001b[0m\u001b[1;33m(\u001b[0m\u001b[0mKeys\u001b[0m\u001b[1;33m.\u001b[0m\u001b[0mPAGE_DOWN\u001b[0m\u001b[1;33m)\u001b[0m\u001b[1;33m.\u001b[0m\u001b[0mperform\u001b[0m\u001b[1;33m(\u001b[0m\u001b[1;33m)\u001b[0m\u001b[1;33m\u001b[0m\u001b[1;33m\u001b[0m\u001b[0m\n\u001b[0m\u001b[0;32m     10\u001b[0m \u001b[1;31m#     elm = driver.find_element_by_xpath('//*[@id=\"video-title\"]')\u001b[0m\u001b[1;33m\u001b[0m\u001b[1;33m\u001b[0m\u001b[1;33m\u001b[0m\u001b[0m\n\u001b[0;32m     11\u001b[0m \u001b[1;31m#     elm.click()\u001b[0m\u001b[1;33m\u001b[0m\u001b[1;33m\u001b[0m\u001b[1;33m\u001b[0m\u001b[0m\n",
      "\u001b[1;31mNameError\u001b[0m: name 'ActionChains' is not defined"
     ]
    }
   ],
   "source": [
    "#DUD##\n",
    "music = pd.DataFrame()\n",
    "driver = webdriver.Chrome() \n",
    "# driver2 = webdriver.Chrome()\n",
    "driver.get(\"https://www.youtube.com/watch?v=Hn7WDtF3nKA\")\n",
    "for i in range(1):\n",
    "    time.sleep(2)\n",
    "    \n",
    "#     elm = driver.find_element_by_xpath('//*[@id=\"video-title\"]')\n",
    "#     elm.click()\n",
    "    print(driver.current_url)\n",
    "    publish_date = driver.find_element_by_xpath('//*[@id=\"info-strings\"]/yt-formatted-string').text\n",
    "    print(publish_date)\n",
    "    v_title = driver.find_element_by_xpath('//*[@id=\"container\"]/h1/yt-formatted-string').text\n",
    "    print(v_title)\n",
    "    title = driver.find_element_by_xpath('//*[@id=\"content\"]/yt-formatted-string').text\n",
    "    print(title)\n",
    "    time.sleep(2)\n",
    "#     driver2.get(\"https://google.com/search?q=\"+v_title+\" genre\")\n",
    "    \n",
    "    \n",
    "# elm = driver.find_element_by_xpath('//*[@id=\"dismissible\"]/ytd-thumbnail')\n",
    "\n",
    "\n",
    "\n",
    "\n",
    "# currentURL = driver.current_url();\n",
    "\n"
   ]
  },
  {
   "cell_type": "code",
   "execution_count": 75,
   "id": "9370e51a",
   "metadata": {},
   "outputs": [
    {
     "name": "stdout",
     "output_type": "stream",
     "text": [
      "Marshmello x Roddy Ricch - Project Dreams (Official Music Video)\n",
      "Project Dreams Marshmello\n",
      "hip-hop\n"
     ]
    }
   ],
   "source": [
    "import pandas as pd\n",
    "from selenium import webdriver\n",
    "import time\n",
    "import re\n",
    "from selenium.webdriver.common.action_chains import ActionChains\n",
    "from selenium.webdriver.common.keys import Keys\n",
    "# https://www.analyticsvidhya.com/blog/2019/05/scraping-classifying-youtube-video-data-python-selenium/\n",
    "\n",
    "music = pd.DataFrame()\n",
    "driver = webdriver.Chrome() \n",
    "driver2 = webdriver.Chrome()\n",
    "driver.get(\"https://www.youtube.com/watch?v=Hn7WDtF3nKA\")\n",
    "# driver.execute_script(\"document.body.style.zoom='zoom 50%'\")\n",
    "# driver.execute_script(\"document.body.style.zoom='50%'\")\n",
    "#https://stackoverflow.com/questions/32135085/how-to-zoom-out-of-page-using-python-selenium\n",
    "\n",
    "for i in range(1):\n",
    "    time.sleep(3)\n",
    "    body = driver.find_element_by_css_selector('body')\n",
    "    body.send_keys(Keys.PAGE_DOWN)\n",
    "#     elm = driver.find_element_by_xpath('//*[@id=\"video-title\"]')\n",
    "#     elm.click()\n",
    "    #print(driver.current_url)\n",
    "    publish_date = driver.find_element_by_xpath('//*[@id=\"info-strings\"]/yt-formatted-string').text\n",
    "    #print(publish_date)\n",
    "    v_title = driver.find_element_by_xpath('//*[@id=\"container\"]/h1/yt-formatted-string').text\n",
    "    print(v_title)\n",
    "    \n",
    "    \n",
    "    more = driver.find_element_by_xpath('//*[@id=\"more\"]/yt-formatted-string')\n",
    "    more.click()\n",
    "    time.sleep(2)\n",
    "    title = driver.find_element_by_xpath('//*[@id=\"content\"]').text\n",
    "    rem = 'Learn more'\n",
    "    rem1 = 'Licensed to YouTube by'\n",
    "    index = title.find(rem)\n",
    "    indexend = title.find(rem1)\n",
    "    title1 = title[index:indexend]\n",
    "    song = title2.split('\\n')[1]\n",
    "    artist = title2.split('\\n')[3]\n",
    "    print(song, artist)\n",
    "    \n",
    "    time.sleep(2)\n",
    "    v_title = re.sub(\"[\\(\\[].*?[\\)\\]]\", \"\", v_title)\n",
    "    driver2.get(\"https://google.com/search?q=\"+v_title+\" genre\")\n",
    "    genre = driver2.find_element_by_xpath('//*[@id=\"rso\"]/div[1]/div/div[1]/div[1]/div[1]/div/div[2]/div').text\n",
    "    print(genre)\n",
    "# elm = driver.find_element_by_xpath('//*[@id=\"dismissible\"]/ytd-thumbnail')\n",
    "\n",
    "\n",
    "\n",
    "\n",
    "# currentURL = driver.current_url();\n"
   ]
  },
  {
   "cell_type": "code",
   "execution_count": null,
   "id": "7c703ebe",
   "metadata": {},
   "outputs": [],
   "source": [
    "done. okie, go rest, i will do the git and then push every code properly\n",
    "then i will set up git on your system\n",
    "get it on yours as well,m\n",
    "brb, water. okay.just let me know. i will be there. bubye"
   ]
  },
  {
   "cell_type": "code",
   "execution_count": 41,
   "id": "2641ccfd",
   "metadata": {},
   "outputs": [
    {
     "data": {
      "text/plain": [
       "('Song', 'Artist', 'Album')"
      ]
     },
     "execution_count": 41,
     "metadata": {},
     "output_type": "execute_result"
    }
   ],
   "source": [
    "title2.split('\\n')[0],title2.split('\\n')[2],title2.split('\\n')[4]"
   ]
  },
  {
   "cell_type": "code",
   "execution_count": null,
   "id": "8380764c",
   "metadata": {},
   "outputs": [],
   "source": []
  }
 ],
 "metadata": {
  "kernelspec": {
   "display_name": "Python 3",
   "language": "python",
   "name": "python3"
  },
  "language_info": {
   "codemirror_mode": {
    "name": "ipython",
    "version": 3
   },
   "file_extension": ".py",
   "mimetype": "text/x-python",
   "name": "python",
   "nbconvert_exporter": "python",
   "pygments_lexer": "ipython3",
   "version": "3.8.8"
  }
 },
 "nbformat": 4,
 "nbformat_minor": 5
}
