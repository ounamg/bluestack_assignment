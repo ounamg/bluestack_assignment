{
 "cells": [
  {
   "cell_type": "code",
   "execution_count": 1,
   "metadata": {},
   "outputs": [],
   "source": [
    "## FIRE PREDICTION ##\n",
    "\n",
    "## import libraries\n",
    "import pandas as pd\n",
    "import warnings\n",
    "import itertools\n",
    "import numpy as np\n",
    "import matplotlib.pyplot as plt\n",
    "warnings.filterwarnings(\"ignore\")\n",
    "plt.style.use('fivethirtyeight')\n",
    "import statsmodels.api as sm\n",
    "import matplotlib\n",
    "matplotlib.rcParams['axes.labelsize'] = 14\n",
    "matplotlib.rcParams['xtick.labelsize'] = 12\n",
    "matplotlib.rcParams['ytick.labelsize'] = 12\n",
    "matplotlib.rcParams['text.color'] = 'k'\n",
    "\n",
    "## read all files\n",
    "fire1 = pd.read_csv('modis_2018_India.csv', parse_dates=['acq_date'])\n",
    "fire2 = pd.read_csv('modis_2019_India.csv', parse_dates=['acq_date'])\n",
    "fire3 = pd.read_csv('modis_2020_India.csv', parse_dates=['acq_date'])\n",
    "\n",
    "fire1.index = pd.to_datetime(fire1.index, unit='s')\n",
    "fire2.index = pd.to_datetime(fire2.index, unit='s')\n",
    "fire3.index = pd.to_datetime(fire3.index, unit='s')"
   ]
  },
  {
   "cell_type": "code",
   "execution_count": 2,
   "metadata": {},
   "outputs": [],
   "source": [
    "# merge the files into one dataframe\n",
    "df = fire1.append(fire2)\n",
    "df = df.append(fire3)\n",
    "\n",
    "df.index = pd.to_datetime(df.index, unit='s')"
   ]
  },
  {
   "cell_type": "code",
   "execution_count": 3,
   "metadata": {},
   "outputs": [],
   "source": [
    "## dropping the unwanted variables from the dataframe\n",
    "cols = ['latitude','longitude', 'brightness', 'scan', 'track', 'acq_time', 'satellite', 'instrument', 'confidence', 'version', 'bright_t31', 'daynight', 'type']\n",
    "df.drop(cols, axis=1, inplace=True)"
   ]
  },
  {
   "cell_type": "code",
   "execution_count": 4,
   "metadata": {},
   "outputs": [
    {
     "data": {
      "text/plain": [
       "acq_date    0\n",
       "frp         0\n",
       "dtype: int64"
      ]
     },
     "execution_count": 4,
     "metadata": {},
     "output_type": "execute_result"
    }
   ],
   "source": [
    "# filling the null values using the sum(). Filling the missing data\n",
    "df.isnull().sum()"
   ]
  },
  {
   "cell_type": "code",
   "execution_count": 5,
   "metadata": {
    "scrolled": true
   },
   "outputs": [],
   "source": [
    "# grouping the data for each month using sum\n",
    "df.acq_date = pd.to_datetime(df.acq_date)\n",
    "df = df.groupby(pd.Grouper(key='acq_date', freq='1M')).sum() # groupby each 1 month\n",
    "#df.index = df.index.strftime('%Y-%B')"
   ]
  },
  {
   "cell_type": "code",
   "execution_count": 6,
   "metadata": {},
   "outputs": [
    {
     "data": {
      "text/html": [
       "<div>\n",
       "<style scoped>\n",
       "    .dataframe tbody tr th:only-of-type {\n",
       "        vertical-align: middle;\n",
       "    }\n",
       "\n",
       "    .dataframe tbody tr th {\n",
       "        vertical-align: top;\n",
       "    }\n",
       "\n",
       "    .dataframe thead th {\n",
       "        text-align: right;\n",
       "    }\n",
       "</style>\n",
       "<table border=\"1\" class=\"dataframe\">\n",
       "  <thead>\n",
       "    <tr style=\"text-align: right;\">\n",
       "      <th></th>\n",
       "      <th>frp</th>\n",
       "    </tr>\n",
       "    <tr>\n",
       "      <th>acq_date</th>\n",
       "      <th></th>\n",
       "    </tr>\n",
       "  </thead>\n",
       "  <tbody>\n",
       "    <tr>\n",
       "      <th>2018-01-31</th>\n",
       "      <td>90963.8</td>\n",
       "    </tr>\n",
       "    <tr>\n",
       "      <th>2018-02-28</th>\n",
       "      <td>189861.9</td>\n",
       "    </tr>\n",
       "    <tr>\n",
       "      <th>2018-03-31</th>\n",
       "      <td>1094019.0</td>\n",
       "    </tr>\n",
       "    <tr>\n",
       "      <th>2018-04-30</th>\n",
       "      <td>355666.0</td>\n",
       "    </tr>\n",
       "    <tr>\n",
       "      <th>2018-05-31</th>\n",
       "      <td>222508.0</td>\n",
       "    </tr>\n",
       "    <tr>\n",
       "      <th>2018-06-30</th>\n",
       "      <td>13736.9</td>\n",
       "    </tr>\n",
       "    <tr>\n",
       "      <th>2018-07-31</th>\n",
       "      <td>2934.0</td>\n",
       "    </tr>\n",
       "    <tr>\n",
       "      <th>2018-08-31</th>\n",
       "      <td>3231.2</td>\n",
       "    </tr>\n",
       "    <tr>\n",
       "      <th>2018-09-30</th>\n",
       "      <td>8132.4</td>\n",
       "    </tr>\n",
       "    <tr>\n",
       "      <th>2018-10-31</th>\n",
       "      <td>94325.3</td>\n",
       "    </tr>\n",
       "    <tr>\n",
       "      <th>2018-11-30</th>\n",
       "      <td>207282.6</td>\n",
       "    </tr>\n",
       "    <tr>\n",
       "      <th>2018-12-31</th>\n",
       "      <td>46416.3</td>\n",
       "    </tr>\n",
       "    <tr>\n",
       "      <th>2019-01-31</th>\n",
       "      <td>84495.9</td>\n",
       "    </tr>\n",
       "    <tr>\n",
       "      <th>2019-02-28</th>\n",
       "      <td>141585.2</td>\n",
       "    </tr>\n",
       "    <tr>\n",
       "      <th>2019-03-31</th>\n",
       "      <td>836869.8</td>\n",
       "    </tr>\n",
       "    <tr>\n",
       "      <th>2019-04-30</th>\n",
       "      <td>453513.5</td>\n",
       "    </tr>\n",
       "    <tr>\n",
       "      <th>2019-05-31</th>\n",
       "      <td>338288.5</td>\n",
       "    </tr>\n",
       "    <tr>\n",
       "      <th>2019-06-30</th>\n",
       "      <td>31487.4</td>\n",
       "    </tr>\n",
       "    <tr>\n",
       "      <th>2019-07-31</th>\n",
       "      <td>6746.1</td>\n",
       "    </tr>\n",
       "    <tr>\n",
       "      <th>2019-08-31</th>\n",
       "      <td>4450.7</td>\n",
       "    </tr>\n",
       "    <tr>\n",
       "      <th>2019-09-30</th>\n",
       "      <td>4423.6</td>\n",
       "    </tr>\n",
       "    <tr>\n",
       "      <th>2019-10-31</th>\n",
       "      <td>100509.6</td>\n",
       "    </tr>\n",
       "    <tr>\n",
       "      <th>2019-11-30</th>\n",
       "      <td>125961.6</td>\n",
       "    </tr>\n",
       "    <tr>\n",
       "      <th>2019-12-31</th>\n",
       "      <td>35256.9</td>\n",
       "    </tr>\n",
       "    <tr>\n",
       "      <th>2020-01-31</th>\n",
       "      <td>41072.7</td>\n",
       "    </tr>\n",
       "    <tr>\n",
       "      <th>2020-02-29</th>\n",
       "      <td>87443.6</td>\n",
       "    </tr>\n",
       "    <tr>\n",
       "      <th>2020-03-31</th>\n",
       "      <td>770733.1</td>\n",
       "    </tr>\n",
       "    <tr>\n",
       "      <th>2020-04-30</th>\n",
       "      <td>417642.4</td>\n",
       "    </tr>\n",
       "    <tr>\n",
       "      <th>2020-05-31</th>\n",
       "      <td>166963.5</td>\n",
       "    </tr>\n",
       "    <tr>\n",
       "      <th>2020-06-30</th>\n",
       "      <td>8647.5</td>\n",
       "    </tr>\n",
       "    <tr>\n",
       "      <th>2020-07-31</th>\n",
       "      <td>5818.1</td>\n",
       "    </tr>\n",
       "    <tr>\n",
       "      <th>2020-08-31</th>\n",
       "      <td>4755.1</td>\n",
       "    </tr>\n",
       "    <tr>\n",
       "      <th>2020-09-30</th>\n",
       "      <td>7329.0</td>\n",
       "    </tr>\n",
       "    <tr>\n",
       "      <th>2020-10-31</th>\n",
       "      <td>154881.7</td>\n",
       "    </tr>\n",
       "    <tr>\n",
       "      <th>2020-11-30</th>\n",
       "      <td>267767.1</td>\n",
       "    </tr>\n",
       "    <tr>\n",
       "      <th>2020-12-31</th>\n",
       "      <td>77602.8</td>\n",
       "    </tr>\n",
       "  </tbody>\n",
       "</table>\n",
       "</div>"
      ],
      "text/plain": [
       "                  frp\n",
       "acq_date             \n",
       "2018-01-31    90963.8\n",
       "2018-02-28   189861.9\n",
       "2018-03-31  1094019.0\n",
       "2018-04-30   355666.0\n",
       "2018-05-31   222508.0\n",
       "2018-06-30    13736.9\n",
       "2018-07-31     2934.0\n",
       "2018-08-31     3231.2\n",
       "2018-09-30     8132.4\n",
       "2018-10-31    94325.3\n",
       "2018-11-30   207282.6\n",
       "2018-12-31    46416.3\n",
       "2019-01-31    84495.9\n",
       "2019-02-28   141585.2\n",
       "2019-03-31   836869.8\n",
       "2019-04-30   453513.5\n",
       "2019-05-31   338288.5\n",
       "2019-06-30    31487.4\n",
       "2019-07-31     6746.1\n",
       "2019-08-31     4450.7\n",
       "2019-09-30     4423.6\n",
       "2019-10-31   100509.6\n",
       "2019-11-30   125961.6\n",
       "2019-12-31    35256.9\n",
       "2020-01-31    41072.7\n",
       "2020-02-29    87443.6\n",
       "2020-03-31   770733.1\n",
       "2020-04-30   417642.4\n",
       "2020-05-31   166963.5\n",
       "2020-06-30     8647.5\n",
       "2020-07-31     5818.1\n",
       "2020-08-31     4755.1\n",
       "2020-09-30     7329.0\n",
       "2020-10-31   154881.7\n",
       "2020-11-30   267767.1\n",
       "2020-12-31    77602.8"
      ]
     },
     "execution_count": 6,
     "metadata": {},
     "output_type": "execute_result"
    }
   ],
   "source": [
    "df"
   ]
  },
  {
   "cell_type": "code",
   "execution_count": 7,
   "metadata": {},
   "outputs": [],
   "source": [
    "# sampling from the required variable and taking its mean and setting the value of y\n",
    "y = df['frp'].resample('MS').mean()"
   ]
  },
  {
   "cell_type": "code",
   "execution_count": 8,
   "metadata": {},
   "outputs": [
    {
     "data": {
      "text/plain": [
       "acq_date\n",
       "2018-01-01      90963.8\n",
       "2018-02-01     189861.9\n",
       "2018-03-01    1094019.0\n",
       "2018-04-01     355666.0\n",
       "2018-05-01     222508.0\n",
       "2018-06-01      13736.9\n",
       "2018-07-01       2934.0\n",
       "2018-08-01       3231.2\n",
       "2018-09-01       8132.4\n",
       "2018-10-01      94325.3\n",
       "2018-11-01     207282.6\n",
       "2018-12-01      46416.3\n",
       "2019-01-01      84495.9\n",
       "2019-02-01     141585.2\n",
       "2019-03-01     836869.8\n",
       "2019-04-01     453513.5\n",
       "2019-05-01     338288.5\n",
       "2019-06-01      31487.4\n",
       "2019-07-01       6746.1\n",
       "2019-08-01       4450.7\n",
       "2019-09-01       4423.6\n",
       "2019-10-01     100509.6\n",
       "2019-11-01     125961.6\n",
       "2019-12-01      35256.9\n",
       "2020-01-01      41072.7\n",
       "2020-02-01      87443.6\n",
       "2020-03-01     770733.1\n",
       "2020-04-01     417642.4\n",
       "2020-05-01     166963.5\n",
       "2020-06-01       8647.5\n",
       "2020-07-01       5818.1\n",
       "2020-08-01       4755.1\n",
       "2020-09-01       7329.0\n",
       "2020-10-01     154881.7\n",
       "2020-11-01     267767.1\n",
       "2020-12-01      77602.8\n",
       "Freq: MS, Name: frp, dtype: float64"
      ]
     },
     "execution_count": 8,
     "metadata": {},
     "output_type": "execute_result"
    }
   ],
   "source": [
    "y['2018':]"
   ]
  },
  {
   "cell_type": "code",
   "execution_count": 9,
   "metadata": {},
   "outputs": [
    {
     "data": {
      "image/png": "[encoded data removed]",
      "text/plain": [
       "<Figure size 1080x432 with 1 Axes>"
      ]
     },
     "metadata": {
      "needs_background": "light"
     },
     "output_type": "display_data"
    }
   ],
   "source": [
    "# plotting frp values over time\n",
    "y.plot(figsize=(15, 6))\n",
    "plt.show()"
   ]
  },
  {
   "cell_type": "code",
   "execution_count": 10,
   "metadata": {},
   "outputs": [],
   "source": [
    "#from pylab import rcParams\n",
    "#rcParams['figure.figsize'] = 18, 8\n",
    "#decomposition = sm.tsa.seasonal_decompose(y, model='additive')\n",
    "#fig = decomposition.plot()\n",
    "#plt.show()"
   ]
  },
  {
   "cell_type": "code",
   "execution_count": 11,
   "metadata": {},
   "outputs": [
    {
     "name": "stdout",
     "output_type": "stream",
     "text": [
      "Examples of parameter combinations for Seasonal ARIMA...\n",
      "SARIMAX: (0, 0, 1) x (0, 0, 1, 12)\n",
      "SARIMAX: (0, 0, 1) x (0, 1, 0, 12)\n",
      "SARIMAX: (0, 1, 0) x (0, 1, 1, 12)\n",
      "SARIMAX: (0, 1, 0) x (1, 0, 0, 12)\n"
     ]
    }
   ],
   "source": [
    "p = d = q = range(0, 2)\n",
    "pdq = list(itertools.product(p, d, q))\n",
    "seasonal_pdq = [(x[0], x[1], x[2], 12) for x in list(itertools.product(p, d, q))]\n",
    "print('Examples of parameter combinations for Seasonal ARIMA...')\n",
    "print('SARIMAX: {} x {}'.format(pdq[1], seasonal_pdq[1]))\n",
    "print('SARIMAX: {} x {}'.format(pdq[1], seasonal_pdq[2]))\n",
    "print('SARIMAX: {} x {}'.format(pdq[2], seasonal_pdq[3]))\n",
    "print('SARIMAX: {} x {}'.format(pdq[2], seasonal_pdq[4]))"
   ]
  },
  {
   "cell_type": "code",
   "execution_count": 12,
   "metadata": {},
   "outputs": [
    {
     "name": "stdout",
     "output_type": "stream",
     "text": [
      "ARIMA(0, 0, 0)x(0, 0, 0, 12)12 - AIC:987.2958162181988\n",
      "ARIMA(0, 0, 0)x(0, 1, 0, 12)12 - AIC:591.7474739033269\n",
      "ARIMA(0, 0, 0)x(1, 0, 0, 12)12 - AIC:606.4039466342895\n",
      "ARIMA(0, 0, 0)x(1, 1, 0, 12)12 - AIC:306.5890661499174\n",
      "ARIMA(0, 0, 1)x(0, 0, 0, 12)12 - AIC:955.2640075151669\n",
      "ARIMA(0, 0, 1)x(0, 1, 0, 12)12 - AIC:570.825617924832\n",
      "ARIMA(0, 0, 1)x(1, 0, 0, 12)12 - AIC:643.3207445875981\n",
      "ARIMA(0, 0, 1)x(1, 1, 0, 12)12 - AIC:306.84656007983966\n",
      "ARIMA(0, 1, 0)x(0, 0, 0, 12)12 - AIC:955.2646739504175\n",
      "ARIMA(0, 1, 0)x(0, 1, 0, 12)12 - AIC:577.3873538891071\n",
      "ARIMA(0, 1, 0)x(1, 0, 0, 12)12 - AIC:588.8714072449997\n",
      "ARIMA(0, 1, 0)x(1, 1, 0, 12)12 - AIC:281.9477232286782\n",
      "ARIMA(0, 1, 1)x(0, 0, 0, 12)12 - AIC:907.0685138452748\n",
      "ARIMA(0, 1, 1)x(0, 1, 0, 12)12 - AIC:531.3030810079509\n",
      "ARIMA(0, 1, 1)x(1, 0, 0, 12)12 - AIC:617.4000354051443\n",
      "ARIMA(0, 1, 1)x(1, 1, 0, 12)12 - AIC:281.1822378226896\n",
      "ARIMA(1, 0, 0)x(0, 0, 0, 12)12 - AIC:975.7743043596457\n",
      "ARIMA(1, 0, 0)x(0, 1, 0, 12)12 - AIC:590.0222062116896\n",
      "ARIMA(1, 0, 0)x(1, 0, 0, 12)12 - AIC:623.1255493527941\n",
      "ARIMA(1, 0, 0)x(1, 1, 0, 12)12 - AIC:281.9611909573549\n",
      "ARIMA(1, 0, 1)x(0, 0, 0, 12)12 - AIC:956.2018458087153\n",
      "ARIMA(1, 0, 1)x(0, 1, 0, 12)12 - AIC:558.9062242909256\n",
      "ARIMA(1, 0, 1)x(1, 0, 0, 12)12 - AIC:614.1545100751389\n",
      "ARIMA(1, 0, 1)x(1, 1, 0, 12)12 - AIC:282.16412798525283\n",
      "ARIMA(1, 1, 0)x(0, 0, 0, 12)12 - AIC:955.3458480101934\n",
      "ARIMA(1, 1, 0)x(0, 1, 0, 12)12 - AIC:573.0417627163475\n",
      "ARIMA(1, 1, 0)x(1, 0, 0, 12)12 - AIC:601.3250083001176\n",
      "ARIMA(1, 1, 0)x(1, 1, 0, 12)12 - AIC:258.7505391683848\n",
      "ARIMA(1, 1, 1)x(0, 0, 0, 12)12 - AIC:902.716890533341\n",
      "ARIMA(1, 1, 1)x(0, 1, 0, 12)12 - AIC:532.9434998931766\n",
      "ARIMA(1, 1, 1)x(1, 0, 0, 12)12 - AIC:592.3449784633733\n",
      "ARIMA(1, 1, 1)x(1, 1, 0, 12)12 - AIC:257.7951179617487\n"
     ]
    }
   ],
   "source": [
    "for param in pdq:\n",
    "    for param_seasonal in seasonal_pdq:\n",
    "        try:\n",
    "            mod = sm.tsa.statespace.SARIMAX(y,\n",
    "                                            order=param,\n",
    "                                            seasonal_order=param_seasonal,\n",
    "                                            enforce_stationarity=False,\n",
    "                                            enforce_invertibility=False)\n",
    "            results = mod.fit()\n",
    "            print('ARIMA{}x{}12 - AIC:{}'.format(param, param_seasonal, results.aic))\n",
    "        except:\n",
    "            continue"
   ]
  },
  {
   "cell_type": "code",
   "execution_count": 13,
   "metadata": {},
   "outputs": [
    {
     "name": "stdout",
     "output_type": "stream",
     "text": [
      "==============================================================================\n",
      "                 coef    std err          z      P>|z|      [0.025      0.975]\n",
      "------------------------------------------------------------------------------\n",
      "ar.L1         -0.5603      0.421     -1.330      0.183      -1.386       0.265\n",
      "ma.L1         -0.1091      0.574     -0.190      0.849      -1.235       1.017\n",
      "ar.S.L12      -0.2324      0.117     -1.993      0.046      -0.461      -0.004\n",
      "sigma2      3.481e+09   2.48e-11   1.41e+20      0.000    3.48e+09    3.48e+09\n",
      "==============================================================================\n"
     ]
    }
   ],
   "source": [
    "mod = sm.tsa.statespace.SARIMAX(y,\n",
    "                                order=(1, 1, 1),\n",
    "                                seasonal_order=(1, 1, 0, 12),\n",
    "                                enforce_stationarity=False,\n",
    "                                enforce_invertibility=False)\n",
    "results = mod.fit()\n",
    "print(results.summary().tables[1])"
   ]
  },
  {
   "cell_type": "code",
   "execution_count": 14,
   "metadata": {},
   "outputs": [],
   "source": [
    "#results.plot_diagnostics(figsize=(16, 8))\n",
    "#plt.show()"
   ]
  },
  {
   "cell_type": "code",
   "execution_count": 15,
   "metadata": {},
   "outputs": [
    {
     "data": {
      "image/png": "[encoded data removed]",
      "text/plain": [
       "<Figure size 1008x504 with 1 Axes>"
      ]
     },
     "metadata": {
      "needs_background": "light"
     },
     "output_type": "display_data"
    }
   ],
   "source": [
    "pred = results.get_prediction(start=pd.to_datetime('2020-01-01'), dynamic=False) # forecasting fire in 2020\n",
    "pred_ci = pred.conf_int() # setting confidence interval around the predicted data\n",
    "ax = y['2014':].plot(label='observed')\n",
    "pred.predicted_mean.plot(ax=ax, label='Forecast', alpha=.7, figsize=(14, 7))\n",
    "ax.fill_between(pred_ci.index,\n",
    "                pred_ci.iloc[:, 0],\n",
    "                pred_ci.iloc[:, 1], color='k', alpha=.2)\n",
    "ax.set_xlabel('Date') # defining x-axis label\n",
    "ax.set_ylabel('Fire') # defining y-axis label\n",
    "plt.legend() # adding legend to the plot\n",
    "plt.show()"
   ]
  },
  {
   "cell_type": "code",
   "execution_count": null,
   "metadata": {},
   "outputs": [],
   "source": []
  }
 ],
 "metadata": {
  "kernelspec": {
   "display_name": "Python 3",
   "language": "python",
   "name": "python3"
  },
  "language_info": {
   "codemirror_mode": {
    "name": "ipython",
    "version": 3
   },
   "file_extension": ".py",
   "mimetype": "text/x-python",
   "name": "python",
   "nbconvert_exporter": "python",
   "pygments_lexer": "ipython3",
   "version": "3.7.4"
  }
 },
 "nbformat": 4,
 "nbformat_minor": 2
}
